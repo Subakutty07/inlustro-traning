{
 "cells": [
  {
   "cell_type": "code",
   "execution_count": 7,
   "id": "e4142b91",
   "metadata": {},
   "outputs": [],
   "source": [
    "import pandas as pd\n",
    "from sklearn.model_selection import train_test_split\n",
    "from sklearn.feature_extraction.text import TfidfVectorizer\n",
    "from sklearn.naive_bayes import MultinomialNB\n",
    "from sklearn.metrics import accuracy_score, classification_report"
   ]
  },
  {
   "cell_type": "code",
   "execution_count": 8,
   "id": "81c319c8",
   "metadata": {},
   "outputs": [],
   "source": [
    "df = pd.read_csv('spam.csv') "
   ]
  },
  {
   "cell_type": "code",
   "execution_count": 9,
   "id": "ad253cf8",
   "metadata": {},
   "outputs": [],
   "source": [
    "x = df['text'] \n",
    "y = df['label'] "
   ]
  },
  {
   "cell_type": "code",
   "execution_count": 10,
   "id": "2164fd0b",
   "metadata": {},
   "outputs": [],
   "source": [
    "x_train,x_test,y_train,y_test = train_test_split(x,y,test_size=0.2,random_state=42)"
   ]
  },
  {
   "cell_type": "code",
   "execution_count": 13,
   "id": "3707420c",
   "metadata": {
    "scrolled": true
   },
   "outputs": [],
   "source": [
    "vectorizer = TfidfVectorizer(stop_words = 'english') \n",
    "x_train_tfidf = vectorizer.fit_transform(x_train) \n",
    "x_test_tfidf = vectorizer.transform(x_test) "
   ]
  },
  {
   "cell_type": "code",
   "execution_count": 14,
   "id": "74cd4ccb",
   "metadata": {},
   "outputs": [],
   "source": [
    "nb_classifier = MultinomialNB()"
   ]
  },
  {
   "cell_type": "code",
   "execution_count": 15,
   "id": "3ff553b6",
   "metadata": {},
   "outputs": [
    {
     "data": {
      "text/plain": [
       "MultinomialNB()"
      ]
     },
     "execution_count": 15,
     "metadata": {},
     "output_type": "execute_result"
    }
   ],
   "source": [
    "nb_classifier.fit(x_train_tfidf,y_train) "
   ]
  },
  {
   "cell_type": "code",
   "execution_count": 16,
   "id": "654d54cc",
   "metadata": {},
   "outputs": [],
   "source": [
    "y_pred = nb_classifier.predict(x_test_tfidf) "
   ]
  },
  {
   "cell_type": "code",
   "execution_count": 17,
   "id": "68cd4081",
   "metadata": {},
   "outputs": [
    {
     "name": "stdout",
     "output_type": "stream",
     "text": [
      "Accuracy:0.97\n",
      "\n",
      "Classification Report:\n",
      "              precision    recall  f1-score   support\n",
      "\n",
      "         ham       0.96      1.00      0.98       965\n",
      "        spam       1.00      0.75      0.86       150\n",
      "\n",
      "    accuracy                           0.97      1115\n",
      "   macro avg       0.98      0.88      0.92      1115\n",
      "weighted avg       0.97      0.97      0.96      1115\n",
      "\n"
     ]
    }
   ],
   "source": [
    "print(f\"Accuracy:{accuracy_score(y_test,y_pred):.2f}\")\n",
    "print(\"\\nClassification Report:\") \n",
    "print(classification_report(y_test,y_pred)) "
   ]
  },
  {
   "cell_type": "code",
   "execution_count": 28,
   "id": "b430964b",
   "metadata": {},
   "outputs": [],
   "source": [
    "new_email = [\n",
    "    \"I have a 50% discount for 100 b00ks\",\n",
    "    ]"
   ]
  },
  {
   "cell_type": "code",
   "execution_count": 29,
   "id": "ed4e186f",
   "metadata": {
    "scrolled": true
   },
   "outputs": [],
   "source": [
    "new_email_tfidf = vectorizer.transform(new_email)"
   ]
  },
  {
   "cell_type": "code",
   "execution_count": 30,
   "id": "6e350a89",
   "metadata": {},
   "outputs": [],
   "source": [
    "predictions = nb_classifier.predict(new_email_tfidf) "
   ]
  },
  {
   "cell_type": "code",
   "execution_count": 31,
   "id": "ec9a54fc",
   "metadata": {
    "scrolled": false
   },
   "outputs": [
    {
     "name": "stdout",
     "output_type": "stream",
     "text": [
      "\n",
      "Predictions on new email:\n",
      "email:I have a 50% discount for 100 b00ks\n",
      "Prediction:spam\n",
      "\n"
     ]
    }
   ],
   "source": [
    "print(\"\\nPredictions on new email:\") \n",
    "for email,label in zip(new_email,predictions):\n",
    "    print(f\"email:{email}\\nPrediction:{label}\\n\")"
   ]
  },
  {
   "cell_type": "code",
   "execution_count": null,
   "id": "ecaf61d6",
   "metadata": {},
   "outputs": [],
   "source": []
  }
 ],
 "metadata": {
  "kernelspec": {
   "display_name": "Python 3 (ipykernel)",
   "language": "python",
   "name": "python3"
  },
  "language_info": {
   "codemirror_mode": {
    "name": "ipython",
    "version": 3
   },
   "file_extension": ".py",
   "mimetype": "text/x-python",
   "name": "python",
   "nbconvert_exporter": "python",
   "pygments_lexer": "ipython3",
   "version": "3.9.7"
  }
 },
 "nbformat": 4,
 "nbformat_minor": 5
}
